{
 "cells": [
  {
   "cell_type": "code",
   "execution_count": 21,
   "metadata": {},
   "outputs": [
    {
     "name": "stdout",
     "output_type": "stream",
     "text": [
      "Data(edge_index=[2, 92], x=[25, 3], y=[1])\n"
     ]
    }
   ],
   "source": [
    "from torch_geometric.datasets import TUDataset\n",
    "\n",
    "dataset = TUDataset(root=\"./data\", name=\"ENZYMES\")\n",
    "print(dataset[2])"
   ]
  },
  {
   "cell_type": "code",
   "execution_count": 23,
   "metadata": {},
   "outputs": [
    {
     "name": "stdout",
     "output_type": "stream",
     "text": [
      "DataBatch(edge_index=[2, 502], x=[124, 3], y=[4], batch=[124], ptr=[5])\n",
      "tensor([0, 0, 0, 0, 0, 0, 0, 0, 0, 0, 0, 0, 0, 0, 0, 0, 0, 0, 0, 0, 0, 0, 0, 0,\n",
      "        0, 0, 0, 0, 0, 0, 0, 0, 0, 0, 0, 0, 0, 0, 0, 1, 1, 1, 1, 1, 1, 1, 1, 1,\n",
      "        1, 1, 1, 1, 1, 1, 2, 2, 2, 2, 2, 2, 2, 2, 2, 2, 2, 2, 2, 2, 2, 2, 2, 2,\n",
      "        2, 2, 2, 2, 2, 2, 2, 2, 2, 2, 3, 3, 3, 3, 3, 3, 3, 3, 3, 3, 3, 3, 3, 3,\n",
      "        3, 3, 3, 3, 3, 3, 3, 3, 3, 3, 3, 3, 3, 3, 3, 3, 3, 3, 3, 3, 3, 3, 3, 3,\n",
      "        3, 3, 3, 3])\n"
     ]
    }
   ],
   "source": [
    "from torch_geometric.loader import DataLoader\n",
    "\n",
    "train_loader = DataLoader(dataset, batch_size=4, shuffle=True)\n",
    "\n",
    "data = next(iter(train_loader))\n",
    "print(data)\n",
    "print(data.batch)"
   ]
  },
  {
   "cell_type": "code",
   "execution_count": 27,
   "metadata": {},
   "outputs": [],
   "source": [
    "import torch.nn as nn \n",
    "import torch.nn.functional as F \n",
    "from torch_geometric.nn import GCNConv, global_mean_pool\n",
    "\n",
    "class GNN(nn.Module):\n",
    "    def __init__(self, input_dim, num_classes):\n",
    "        super(GNN, self).__init__()\n",
    "        self.conv1 = GCNConv(input_dim, 64)\n",
    "        self.conv2 = GCNConv(64, 64)\n",
    "        self.conv3 = GCNConv(64, 64)\n",
    "        self.fc = nn.Linear(64, num_classes)\n",
    "\n",
    "    def forward(self, x, edge_index, batch):\n",
    "        x = F.relu(self.conv1(x, edge_index))\n",
    "        x = F.relu(self.conv2(x, edge_index))\n",
    "        x = self.conv3(x, edge_index)\n",
    "        x = global_mean_pool(x, batch)\n",
    "        x = self.fc(x)\n",
    "        return x\n",
    "    \n",
    "model = GNN(input_dim=3, num_classes=6)\n",
    "\n",
    "\n"
   ]
  },
  {
   "cell_type": "code",
   "execution_count": 28,
   "metadata": {},
   "outputs": [],
   "source": [
    "# training the model\n",
    "\n",
    "import torch.optim as optim\n",
    "\n",
    "NUM_EPOCHS = 200\n",
    "LEARNING_RATE = 0.01\n",
    "\n",
    "optimizer = optim.Adam(model.parameters(), lr=LEARNING_RATE)\n",
    "criterion = nn.CrossEntropyLoss()\n",
    "model.train()\n",
    "\n",
    "for epoch in range(NUM_EPOCHS):\n",
    "    for data in train_loader:\n",
    "        optimizer.zero_grad()\n",
    "        out = model(data.x, data.edge_index, data.batch)\n",
    "        loss = criterion(out, data.y)\n",
    "        loss.backward()\n",
    "        optimizer.step()\n"
   ]
  },
  {
   "cell_type": "code",
   "execution_count": 32,
   "metadata": {},
   "outputs": [
    {
     "name": "stdout",
     "output_type": "stream",
     "text": [
      "Predictions for all graphs: tensor([5, 2, 5, 5, 5, 5, 5, 4, 5, 5, 5, 5, 5, 5, 2, 5, 3, 2, 5, 5, 5, 5, 5, 2,\n",
      "        5, 5, 5, 4, 4, 5, 5, 5, 5, 5, 2, 5, 5, 5, 5, 5, 5, 4, 5, 4, 2, 2, 5, 5,\n",
      "        5, 5, 5, 5, 5, 5, 5, 5, 5, 5, 4, 5, 5, 4, 5, 5, 5, 5, 5, 5, 5, 3, 5, 5,\n",
      "        5, 4, 5, 2, 5, 5, 5, 5, 5, 2, 5, 2, 2, 5, 5, 2, 5, 3, 5, 2, 5, 5, 5, 2,\n",
      "        3, 5, 5, 5, 4, 5, 5, 5, 4, 2, 5, 2, 5, 5, 2, 5, 5, 5, 5, 5, 3, 5, 3, 4,\n",
      "        2, 5, 5, 4, 5, 5, 5, 5, 5, 5, 5, 5, 5, 5, 5, 5, 5, 5, 2, 5, 3, 5, 5, 5,\n",
      "        5, 4, 5, 2, 5, 5, 5, 4, 5, 5, 4, 5, 5, 5, 5, 5, 5, 5, 5, 5, 5, 5, 4, 2,\n",
      "        5, 5, 5, 5, 5, 5, 5, 5, 2, 5, 5, 5, 4, 4, 5, 4, 5, 5, 5, 5, 5, 5, 5, 3,\n",
      "        5, 4, 5, 2, 5, 5, 4, 5, 5, 5, 5, 2, 5, 5, 5, 5, 2, 5, 5, 5, 2, 5, 2, 5,\n",
      "        4, 5, 2, 2, 5, 5, 5, 5, 2, 5, 5, 5, 4, 5, 5, 5, 2, 5, 5, 5, 4, 5, 2, 2,\n",
      "        5, 5, 4, 5, 2, 5, 5, 5, 2, 5, 5, 5, 5, 5, 5, 5, 5, 5, 2, 5, 5, 5, 5, 2,\n",
      "        3, 5, 5, 5, 5, 2, 5, 5, 3, 5, 5, 4, 3, 3, 3, 5, 2, 4, 5, 2, 5, 4, 5, 3,\n",
      "        5, 2, 5, 2, 5, 5, 5, 5, 5, 4, 5, 2, 2, 3, 5, 5, 5, 5, 5, 5, 5, 5, 5, 2,\n",
      "        2, 5, 5, 4, 5, 5, 5, 5, 2, 5, 5, 5, 5, 5, 5, 5, 5, 5, 3, 5, 4, 5, 2, 5,\n",
      "        5, 5, 5, 2, 5, 2, 4, 3, 5, 5, 2, 5, 5, 5, 5, 5, 2, 5, 5, 2, 5, 5, 5, 4,\n",
      "        5, 5, 5, 5, 5, 5, 5, 5, 5, 5, 5, 5, 5, 5, 5, 5, 5, 5, 5, 5, 2, 2, 5, 5,\n",
      "        3, 3, 5, 3, 3, 5, 5, 5, 2, 5, 5, 3, 5, 4, 2, 5, 2, 5, 3, 5, 2, 5, 5, 3,\n",
      "        2, 5, 5, 5, 5, 5, 2, 5, 4, 5, 2, 2, 5, 3, 5, 2, 5, 5, 2, 3, 5, 5, 5, 5,\n",
      "        3, 5, 2, 2, 5, 5, 5, 5, 5, 2, 5, 4, 5, 3, 3, 5, 5, 5, 5, 4, 5, 4, 5, 3,\n",
      "        5, 2, 4, 5, 3, 2, 3, 5, 5, 2, 5, 5, 5, 5, 2, 5, 2, 5, 5, 5, 5, 5, 5, 5,\n",
      "        2, 4, 5, 5, 5, 2, 5, 5, 5, 5, 5, 5, 2, 5, 5, 5, 5, 4, 5, 5, 2, 4, 5, 5,\n",
      "        2, 5, 2, 2, 5, 4, 3, 2, 5, 2, 5, 5, 3, 4, 3, 5, 5, 5, 5, 4, 3, 5, 5, 5,\n",
      "        5, 2, 5, 5, 2, 5, 5, 4, 3, 5, 2, 2, 5, 5, 3, 2, 5, 5, 2, 2, 2, 5, 5, 5,\n",
      "        5, 5, 4, 2, 2, 5, 5, 5, 4, 5, 5, 2, 2, 2, 2, 2, 5, 5, 5, 5, 4, 4, 5, 5,\n",
      "        3, 5, 4, 5, 5, 5, 5, 5, 5, 2, 5, 4, 5, 2, 5, 5, 3, 2, 4, 4, 5, 5, 5, 5])\n"
     ]
    }
   ],
   "source": [
    "# Predict\n",
    "import torch\n",
    "\n",
    "# --- Prediction after training ---\n",
    "model.eval()  # switch to evaluation mode\n",
    "all_preds = []\n",
    "\n",
    "with torch.no_grad():  # no gradients needed\n",
    "    for data in train_loader:  # or test_loader if you have one\n",
    "        out = model(data.x, data.edge_index, data.batch)  # forward pass\n",
    "        preds = out.argmax(dim=1)  # predicted class per graph, in our case 4 prediciton for each batch\n",
    "        all_preds.append(preds)\n",
    "\n",
    "all_preds = torch.cat(all_preds, dim=0)  # combine all batch predictions\n",
    "print(\"Predictions for all graphs:\", all_preds)"
   ]
  },
  {
   "cell_type": "code",
   "execution_count": null,
   "metadata": {},
   "outputs": [],
   "source": []
  }
 ],
 "metadata": {
  "kernelspec": {
   "display_name": "Python 3",
   "language": "python",
   "name": "python3"
  },
  "language_info": {
   "codemirror_mode": {
    "name": "ipython",
    "version": 3
   },
   "file_extension": ".py",
   "mimetype": "text/x-python",
   "name": "python",
   "nbconvert_exporter": "python",
   "pygments_lexer": "ipython3",
   "version": "3.10.6"
  },
  "orig_nbformat": 4
 },
 "nbformat": 4,
 "nbformat_minor": 2
}
